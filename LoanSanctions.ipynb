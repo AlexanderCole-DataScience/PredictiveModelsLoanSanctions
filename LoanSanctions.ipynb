{
  "nbformat": 4,
  "nbformat_minor": 0,
  "metadata": {
    "colab": {
      "provenance": []
    },
    "kernelspec": {
      "name": "python3",
      "display_name": "Python 3"
    },
    "language_info": {
      "name": "python"
    }
  },
  "cells": [
    {
      "cell_type": "code",
      "execution_count": 1,
      "metadata": {
        "id": "nAj1lCPcsHFF"
      },
      "outputs": [],
      "source": [
        "import pandas as pd"
      ]
    },
    {
      "cell_type": "code",
      "source": [
        "df = pd.read_csv(\"/loan_sanction.csv\")"
      ],
      "metadata": {
        "id": "hZBVhoQqvGYn"
      },
      "execution_count": 4,
      "outputs": []
    },
    {
      "cell_type": "code",
      "source": [
        "import seaborn as sns"
      ],
      "metadata": {
        "id": "PFWxyHGIwu1k"
      },
      "execution_count": null,
      "outputs": []
    },
    {
      "cell_type": "code",
      "source": [
        "import numpy as np\n",
        "import matplotlib.pyplot as plt"
      ],
      "metadata": {
        "id": "0W_-XPUqwwvy"
      },
      "execution_count": null,
      "outputs": []
    },
    {
      "cell_type": "code",
      "source": [
        "print(df.info())"
      ],
      "metadata": {
        "colab": {
          "base_uri": "https://localhost:8080/"
        },
        "id": "d6hzmYobxFrH",
        "outputId": "2177766b-70f8-462d-8b80-39c6bcc8460d"
      },
      "execution_count": null,
      "outputs": [
        {
          "output_type": "stream",
          "name": "stdout",
          "text": [
            "<class 'pandas.core.frame.DataFrame'>\n",
            "Int64Index: 586 entries, 0 to 613\n",
            "Data columns (total 12 columns):\n",
            " #   Column             Non-Null Count  Dtype  \n",
            "---  ------             --------------  -----  \n",
            " 0   Gender             586 non-null    int64  \n",
            " 1   Married            586 non-null    int64  \n",
            " 2   Dependents         586 non-null    int64  \n",
            " 3   Education          586 non-null    int64  \n",
            " 4   Self_Employed      586 non-null    int64  \n",
            " 5   ApplicantIncome    586 non-null    int64  \n",
            " 6   CoapplicantIncome  586 non-null    float64\n",
            " 7   LoanAmount         586 non-null    float64\n",
            " 8   Loan_Amount_Term   586 non-null    float64\n",
            " 9   Credit_History     586 non-null    float64\n",
            " 10  Property_Area      586 non-null    int64  \n",
            " 11  Loan_Status        586 non-null    int64  \n",
            "dtypes: float64(4), int64(8)\n",
            "memory usage: 59.5 KB\n",
            "None\n"
          ]
        }
      ]
    },
    {
      "cell_type": "code",
      "source": [
        "print(df.isnull().sum())"
      ],
      "metadata": {
        "colab": {
          "base_uri": "https://localhost:8080/"
        },
        "id": "s7v6U8T4xxUU",
        "outputId": "7b8c9c3c-2caa-4362-83b2-05d87b9aeecb"
      },
      "execution_count": null,
      "outputs": [
        {
          "output_type": "stream",
          "name": "stdout",
          "text": [
            "Loan_ID               0\n",
            "Gender               13\n",
            "Married               3\n",
            "Dependents           15\n",
            "Education             0\n",
            "Self_Employed        32\n",
            "ApplicantIncome       0\n",
            "CoapplicantIncome     0\n",
            "LoanAmount           22\n",
            "Loan_Amount_Term     14\n",
            "Credit_History       50\n",
            "Property_Area         0\n",
            "Loan_Status           0\n",
            "dtype: int64\n"
          ]
        }
      ]
    },
    {
      "cell_type": "code",
      "source": [
        "print(df.mean())"
      ],
      "metadata": {
        "colab": {
          "base_uri": "https://localhost:8080/"
        },
        "id": "QqZ1JnUxyJfH",
        "outputId": "2da795eb-9aad-4413-832a-d57a57d47290"
      },
      "execution_count": null,
      "outputs": [
        {
          "output_type": "stream",
          "name": "stdout",
          "text": [
            "ApplicantIncome      5403.459283\n",
            "CoapplicantIncome    1621.245798\n",
            "LoanAmount            146.412162\n",
            "Loan_Amount_Term      342.000000\n",
            "Credit_History          0.842199\n",
            "dtype: float64\n"
          ]
        },
        {
          "output_type": "stream",
          "name": "stderr",
          "text": [
            "<ipython-input-27-f98cceecb4a0>:1: FutureWarning: Dropping of nuisance columns in DataFrame reductions (with 'numeric_only=None') is deprecated; in a future version this will raise TypeError.  Select only valid columns before calling the reduction.\n",
            "  print(df.mean())\n"
          ]
        }
      ]
    },
    {
      "cell_type": "code",
      "source": [
        "print(df.hist())"
      ],
      "metadata": {
        "colab": {
          "base_uri": "https://localhost:8080/",
          "height": 372
        },
        "id": "FRpsmKPOyjWf",
        "outputId": "75119ad1-6c5d-4977-d8dd-ddb046940e27"
      },
      "execution_count": null,
      "outputs": [
        {
          "output_type": "stream",
          "name": "stdout",
          "text": [
            "[[<Axes: title={'center': 'ApplicantIncome'}>\n",
            "  <Axes: title={'center': 'CoapplicantIncome'}>]\n",
            " [<Axes: title={'center': 'LoanAmount'}>\n",
            "  <Axes: title={'center': 'Loan_Amount_Term'}>]\n",
            " [<Axes: title={'center': 'Credit_History'}> <Axes: >]]\n"
          ]
        },
        {
          "output_type": "display_data",
          "data": {
            "text/plain": [
              "<Figure size 432x288 with 6 Axes>"
            ],
            "image/png": "[encoded data removed]"
          },
          "metadata": {
            "needs_background": "light"
          }
        }
      ]
    },
    {
      "cell_type": "code",
      "source": [
        "print(df)"
      ],
      "metadata": {
        "colab": {
          "base_uri": "https://localhost:8080/"
        },
        "id": "j6NLb4ih3Bg8",
        "outputId": "4918762d-e039-4698-f052-a4a69ccde44b"
      },
      "execution_count": null,
      "outputs": [
        {
          "output_type": "stream",
          "name": "stdout",
          "text": [
            "      Loan_ID  Gender Married Dependents     Education Self_Employed  \\\n",
            "0    LP001002    Male      No          0      Graduate            No   \n",
            "1    LP001003    Male     Yes          1      Graduate            No   \n",
            "2    LP001005    Male     Yes          0      Graduate           Yes   \n",
            "3    LP001006    Male     Yes          0  Not Graduate            No   \n",
            "4    LP001008    Male      No          0      Graduate            No   \n",
            "..        ...     ...     ...        ...           ...           ...   \n",
            "609  LP002978  Female      No          0      Graduate            No   \n",
            "610  LP002979    Male     Yes         3+      Graduate            No   \n",
            "611  LP002983    Male     Yes          1      Graduate            No   \n",
            "612  LP002984    Male     Yes          2      Graduate            No   \n",
            "613  LP002990  Female      No          0      Graduate           Yes   \n",
            "\n",
            "     ApplicantIncome  CoapplicantIncome  LoanAmount  Loan_Amount_Term  \\\n",
            "0               5849                0.0         NaN             360.0   \n",
            "1               4583             1508.0       128.0             360.0   \n",
            "2               3000                0.0        66.0             360.0   \n",
            "3               2583             2358.0       120.0             360.0   \n",
            "4               6000                0.0       141.0             360.0   \n",
            "..               ...                ...         ...               ...   \n",
            "609             2900                0.0        71.0             360.0   \n",
            "610             4106                0.0        40.0             180.0   \n",
            "611             8072              240.0       253.0             360.0   \n",
            "612             7583                0.0       187.0             360.0   \n",
            "613             4583                0.0       133.0             360.0   \n",
            "\n",
            "     Credit_History Property_Area Loan_Status  \n",
            "0               1.0         Urban           Y  \n",
            "1               1.0         Rural           N  \n",
            "2               1.0         Urban           Y  \n",
            "3               1.0         Urban           Y  \n",
            "4               1.0         Urban           Y  \n",
            "..              ...           ...         ...  \n",
            "609             1.0         Rural           Y  \n",
            "610             1.0         Rural           Y  \n",
            "611             1.0         Urban           Y  \n",
            "612             1.0         Urban           Y  \n",
            "613             0.0     Semiurban           N  \n",
            "\n",
            "[614 rows x 13 columns]\n"
          ]
        }
      ]
    },
    {
      "cell_type": "code",
      "source": [
        "#Filled empty credit history fields with the average of 0.84\n",
        "\n",
        "df.Credit_History = df.Credit_History.fillna(0.84)\n"
      ],
      "metadata": {
        "id": "zTMaHDZs2GXS"
      },
      "execution_count": null,
      "outputs": []
    },
    {
      "cell_type": "code",
      "source": [
        "#Filled in empty loan amounts wit the average amount of $146.41\n",
        "\n",
        "df.LoanAmount = df.LoanAmount.fillna(146.41)"
      ],
      "metadata": {
        "id": "ytH7fiRh1VpG"
      },
      "execution_count": null,
      "outputs": []
    },
    {
      "cell_type": "code",
      "source": [
        "#Filled self employed with no because that was the vast majority.\n",
        "\n",
        "df.Self_Employed = df.Self_Employed.fillna(\"No\")\n"
      ],
      "metadata": {
        "id": "g_iSHgpb3zIY"
      },
      "execution_count": null,
      "outputs": []
    },
    {
      "cell_type": "code",
      "source": [
        "#Filled the loan amount term with the average of 342\n",
        "\n",
        "df.Loan_Amount_Term = df.Loan_Amount_Term.fillna(342)\n"
      ],
      "metadata": {
        "id": "T-mBtMKE4WLN"
      },
      "execution_count": null,
      "outputs": []
    },
    {
      "cell_type": "code",
      "source": [
        "df.dropna(inplace = True)"
      ],
      "metadata": {
        "id": "49UGuMML63Mu"
      },
      "execution_count": null,
      "outputs": []
    },
    {
      "cell_type": "code",
      "source": [
        "print(df.hist())"
      ],
      "metadata": {
        "colab": {
          "base_uri": "https://localhost:8080/",
          "height": 372
        },
        "id": "3z6KPpBm4l94",
        "outputId": "5a0f68e2-33fc-473a-bcc0-efb046fc3ce8"
      },
      "execution_count": null,
      "outputs": [
        {
          "output_type": "stream",
          "name": "stdout",
          "text": [
            "[[<Axes: title={'center': 'ApplicantIncome'}>\n",
            "  <Axes: title={'center': 'CoapplicantIncome'}>]\n",
            " [<Axes: title={'center': 'LoanAmount'}>\n",
            "  <Axes: title={'center': 'Loan_Amount_Term'}>]\n",
            " [<Axes: title={'center': 'Credit_History'}> <Axes: >]]\n"
          ]
        },
        {
          "output_type": "display_data",
          "data": {
            "text/plain": [
              "<Figure size 432x288 with 6 Axes>"
            ],
            "image/png": "[encoded data removed]"
          },
          "metadata": {
            "needs_background": "light"
          }
        }
      ]
    },
    {
      "cell_type": "code",
      "source": [
        "from sklearn.metrics import confusion_matrix, classification_report, accuracy_score\n",
        "import warnings\n",
        "warnings.filterwarnings('ignore')"
      ],
      "metadata": {
        "id": "7Zwg87bM8w38"
      },
      "execution_count": null,
      "outputs": []
    },
    {
      "cell_type": "code",
      "source": [
        "#Decision tree classifier\n",
        "def decision_tree_classifier(train_x, train_y):\n",
        "  from sklearn import tree\n",
        "  model = tree.DecisionTreeClassifier()\n",
        "  model.fit(train_x, train_y)\n",
        "  return model\n"
      ],
      "metadata": {
        "id": "x7xjm_rz9EZ3"
      },
      "execution_count": null,
      "outputs": []
    },
    {
      "cell_type": "code",
      "source": [
        "#KNN Classifier\n",
        "def knn_classifier(train_x, train_y):\n",
        "  from sklearn.neighbors import KNeighborsClassifier\n",
        "  model = KNeighborsClassifier()\n",
        "  model.fit(train_x,train_y)\n",
        "  return model"
      ],
      "metadata": {
        "id": "BNCUfB_P_Wdj"
      },
      "execution_count": null,
      "outputs": []
    },
    {
      "cell_type": "code",
      "source": [
        "#Naive Bayes Classifier\n",
        "def naive_bayes_classifier(train_x, train_y):\n",
        "  from sklearn.naive_bayes import MultinomialNB\n",
        "  model = MultinomialNB(alpha = 0.01)\n",
        "  model.fit(train_x, train_y)\n",
        "  return model"
      ],
      "metadata": {
        "id": "bBgssOz7tAmc"
      },
      "execution_count": null,
      "outputs": []
    },
    {
      "cell_type": "code",
      "source": [
        "#Logistic Regression Classifier\n",
        "def logistic_regression_classifier(train_x, train_y):\n",
        "  from sklearn.linear_model import LogisticRegression\n",
        "  model = LogisticRegression(penalty = 'l2')\n",
        "  model.fit(train_x, train_y)\n",
        "  return model"
      ],
      "metadata": {
        "id": "hMIY25JuuLH-"
      },
      "execution_count": null,
      "outputs": []
    },
    {
      "cell_type": "code",
      "source": [
        "#Gradient Boosting Classifier\n",
        "def Gradient_Boosting_Classifier(train_x, train_y):\n",
        "  from sklearn.ensemble import GradientBoostingClassifier\n",
        "  model = GradientBoostingClassifier()\n",
        "  model.fit(train_x, train_y)\n",
        "  return model"
      ],
      "metadata": {
        "id": "fnKMn8fAu68S"
      },
      "execution_count": null,
      "outputs": []
    },
    {
      "cell_type": "code",
      "source": [
        "#SVM Classifier\n",
        "def svm_classifier(train_x, train_y):\n",
        "  from sklearn.svm import SVC\n",
        "  model = SVC(kernel = 'rbf', probability= True)\n",
        "  model.fit(train_x, train_y)\n",
        "  return model"
      ],
      "metadata": {
        "id": "owwwCBGTvjTR"
      },
      "execution_count": null,
      "outputs": []
    },
    {
      "cell_type": "code",
      "source": [
        "# Random Forest Classifier\n",
        "def random_forest_classifier(train_x, train_y):\n",
        "  from sklearn.ensemble import RandomForestClassifier\n",
        "  model = RandomForestClassifier(n_estimators= 100)\n",
        "  model.fit(train_x, train_y)\n",
        "  return model"
      ],
      "metadata": {
        "id": "m7gtaeF8wEQ2"
      },
      "execution_count": null,
      "outputs": []
    },
    {
      "cell_type": "code",
      "source": [
        "#import for ANN\n",
        "from tensorflow import keras\n",
        "from tensorflow.keras import layers\n",
        "\n",
        "from sklearn import preprocessing\n",
        "\n",
        "from tensorflow.keras.models import Sequential\n",
        "from tensorflow.keras.layers import Dense,Dropout, BatchNormalization\n",
        "from tensorflow.keras import optimizers\n",
        "from tensorflow.keras.layers import Dense, Dropout, Activation, Flatten, Conv2D, MaxPooling2D\n",
        "from keras import callbacks\n",
        "from keras.optimizers import Adam"
      ],
      "metadata": {
        "id": "K0sAkiLw0pzr"
      },
      "execution_count": null,
      "outputs": []
    },
    {
      "cell_type": "code",
      "source": [
        "y_train[:100]"
      ],
      "metadata": {
        "colab": {
          "base_uri": "https://localhost:8080/"
        },
        "id": "zdydDkg41gyM",
        "outputId": "4c2a3d5e-9886-4e8c-b948-564f7cd0cb3a"
      },
      "execution_count": null,
      "outputs": [
        {
          "output_type": "execute_result",
          "data": {
            "text/plain": [
              "array([0, 1, 0, 1, 1, 1, 0, 0, 1, 1, 0, 1, 1, 0, 1, 0, 1, 1, 1, 1, 0, 0,\n",
              "       0, 1, 1, 1, 1, 1, 1, 0, 0, 1, 1, 1, 0, 0, 0, 0, 1, 1, 1, 1, 1, 0,\n",
              "       0, 1, 1, 1, 1, 1, 1, 1, 1, 1, 0, 0, 1, 1, 1, 1, 1, 0, 0, 1, 1, 1,\n",
              "       0, 1, 1, 0, 1, 1, 0, 1, 1, 0, 0, 0, 1, 1, 1, 1, 1, 1, 0, 1, 0, 1,\n",
              "       1, 0, 1, 1, 1, 1, 0, 1, 0, 1, 1, 1])"
            ]
          },
          "metadata": {},
          "execution_count": 61
        }
      ]
    },
    {
      "cell_type": "code",
      "source": [
        "df = df.drop('Loan_ID', axis = 1)"
      ],
      "metadata": {
        "id": "e2t3P1uGEoX9"
      },
      "execution_count": null,
      "outputs": []
    },
    {
      "cell_type": "code",
      "source": [
        "print(df.info())"
      ],
      "metadata": {
        "colab": {
          "base_uri": "https://localhost:8080/"
        },
        "id": "dEbczY5IDf41",
        "outputId": "06086219-a2ec-4a5d-fb4b-7bac4d676f4b"
      },
      "execution_count": null,
      "outputs": [
        {
          "output_type": "stream",
          "name": "stdout",
          "text": [
            "<class 'pandas.core.frame.DataFrame'>\n",
            "Int64Index: 586 entries, 0 to 613\n",
            "Data columns (total 12 columns):\n",
            " #   Column             Non-Null Count  Dtype  \n",
            "---  ------             --------------  -----  \n",
            " 0   Gender             586 non-null    object \n",
            " 1   Married            586 non-null    object \n",
            " 2   Dependents         586 non-null    object \n",
            " 3   Education          586 non-null    object \n",
            " 4   Self_Employed      586 non-null    object \n",
            " 5   ApplicantIncome    586 non-null    int64  \n",
            " 6   CoapplicantIncome  586 non-null    float64\n",
            " 7   LoanAmount         586 non-null    float64\n",
            " 8   Loan_Amount_Term   586 non-null    float64\n",
            " 9   Credit_History     586 non-null    float64\n",
            " 10  Property_Area      586 non-null    object \n",
            " 11  Loan_Status        586 non-null    object \n",
            "dtypes: float64(4), int64(1), object(7)\n",
            "memory usage: 59.5+ KB\n",
            "None\n"
          ]
        }
      ]
    },
    {
      "cell_type": "code",
      "source": [
        "print(df)"
      ],
      "metadata": {
        "colab": {
          "base_uri": "https://localhost:8080/"
        },
        "id": "ATPLpJyQRBio",
        "outputId": "082cbb10-065b-4e21-e545-b05f72879413"
      },
      "execution_count": null,
      "outputs": [
        {
          "output_type": "stream",
          "name": "stdout",
          "text": [
            "     Gender Married Dependents     Education Self_Employed  ApplicantIncome  \\\n",
            "0      Male      No          0      Graduate            No             5849   \n",
            "1      Male     Yes          1      Graduate            No             4583   \n",
            "2      Male     Yes          0      Graduate           Yes             3000   \n",
            "3      Male     Yes          0  Not Graduate            No             2583   \n",
            "4      Male      No          0      Graduate            No             6000   \n",
            "..      ...     ...        ...           ...           ...              ...   \n",
            "609  Female      No          0      Graduate            No             2900   \n",
            "610    Male     Yes         3+      Graduate            No             4106   \n",
            "611    Male     Yes          1      Graduate            No             8072   \n",
            "612    Male     Yes          2      Graduate            No             7583   \n",
            "613  Female      No          0      Graduate           Yes             4583   \n",
            "\n",
            "     CoapplicantIncome  LoanAmount  Loan_Amount_Term  Credit_History  \\\n",
            "0                  0.0      146.41             360.0             1.0   \n",
            "1               1508.0      128.00             360.0             1.0   \n",
            "2                  0.0       66.00             360.0             1.0   \n",
            "3               2358.0      120.00             360.0             1.0   \n",
            "4                  0.0      141.00             360.0             1.0   \n",
            "..                 ...         ...               ...             ...   \n",
            "609                0.0       71.00             360.0             1.0   \n",
            "610                0.0       40.00             180.0             1.0   \n",
            "611              240.0      253.00             360.0             1.0   \n",
            "612                0.0      187.00             360.0             1.0   \n",
            "613                0.0      133.00             360.0             0.0   \n",
            "\n",
            "    Property_Area Loan_Status  \n",
            "0           Urban           Y  \n",
            "1           Rural           N  \n",
            "2           Urban           Y  \n",
            "3           Urban           Y  \n",
            "4           Urban           Y  \n",
            "..            ...         ...  \n",
            "609         Rural           Y  \n",
            "610         Rural           Y  \n",
            "611         Urban           Y  \n",
            "612         Urban           Y  \n",
            "613     Semiurban           N  \n",
            "\n",
            "[586 rows x 12 columns]\n"
          ]
        }
      ]
    },
    {
      "cell_type": "code",
      "source": [
        "from sklearn.preprocessing import LabelEncoder\n",
        "le = LabelEncoder()\n",
        "Gender = le.fit_transform(df.Gender)\n",
        "Gender\n",
        "df.Gender = Gender"
      ],
      "metadata": {
        "id": "1znHxYnj6nOF"
      },
      "execution_count": null,
      "outputs": []
    },
    {
      "cell_type": "code",
      "source": [
        "from sklearn.preprocessing import LabelEncoder\n",
        "le = LabelEncoder()\n",
        "Married = le.fit_transform(df.Married)\n",
        "Married\n",
        "df.Married = Married"
      ],
      "metadata": {
        "id": "KvocXWP7GdtC"
      },
      "execution_count": null,
      "outputs": []
    },
    {
      "cell_type": "code",
      "source": [
        "from sklearn.preprocessing import LabelEncoder\n",
        "le = LabelEncoder()\n",
        "Dependents = le.fit_transform(df.Dependents)\n",
        "Dependents\n",
        "df.Dependents = Dependents"
      ],
      "metadata": {
        "id": "wLa-mVvKGoCJ"
      },
      "execution_count": null,
      "outputs": []
    },
    {
      "cell_type": "code",
      "source": [
        "from sklearn.preprocessing import LabelEncoder\n",
        "le = LabelEncoder()\n",
        "Education = le.fit_transform(df.Education)\n",
        "Education\n",
        "df.Education = Education"
      ],
      "metadata": {
        "id": "mUJ84GxuG2a3"
      },
      "execution_count": null,
      "outputs": []
    },
    {
      "cell_type": "code",
      "source": [
        "from pandas.core.algorithms import SelectNFrame\n",
        "from sklearn.preprocessing import LabelEncoder\n",
        "le = LabelEncoder()\n",
        "Self_Employed = le.fit_transform(df.Self_Employed)\n",
        "Self_Employed\n",
        "df.Self_Employed = Self_Employed"
      ],
      "metadata": {
        "id": "8KnB6WrqHEGV"
      },
      "execution_count": null,
      "outputs": []
    },
    {
      "cell_type": "code",
      "source": [
        "from sklearn.preprocessing import LabelEncoder\n",
        "le = LabelEncoder()\n",
        "Property_Area = le.fit_transform(df.Property_Area)\n",
        "Property_Area\n",
        "df.Property_Area = Property_Area"
      ],
      "metadata": {
        "id": "npvJezRFHSQU"
      },
      "execution_count": null,
      "outputs": []
    },
    {
      "cell_type": "code",
      "source": [
        "from sklearn.preprocessing import LabelEncoder\n",
        "le = LabelEncoder()\n",
        "Loan_Status = le.fit_transform(df.Loan_Status)\n",
        "Loan_Status\n",
        "df.Loan_Status = Loan_Status"
      ],
      "metadata": {
        "id": "D1rI5H5FHdXl"
      },
      "execution_count": null,
      "outputs": []
    },
    {
      "cell_type": "code",
      "source": [
        "#Splitting training and test set\n",
        "x=df.iloc[:,:-1].values\n",
        "y=df.iloc[:,-1].values\n",
        "from sklearn.model_selection import train_test_split\n",
        "X_train,X_test,y_train,y_test=train_test_split(x,y,test_size=0.2, random_state = 42)"
      ],
      "metadata": {
        "id": "-M8rf1Vk-DUL"
      },
      "execution_count": null,
      "outputs": []
    },
    {
      "cell_type": "code",
      "source": [
        "print(df.head)"
      ],
      "metadata": {
        "colab": {
          "base_uri": "https://localhost:8080/"
        },
        "id": "D96w_dPLusFf",
        "outputId": "d0c93bce-d674-4e1c-a427-3eb86ae744b7"
      },
      "execution_count": null,
      "outputs": [
        {
          "output_type": "stream",
          "name": "stdout",
          "text": [
            "<bound method NDFrame.head of      Gender  Married  Dependents  Education  Self_Employed  ApplicantIncome  \\\n",
            "0         1        0           0          0              0             5849   \n",
            "1         1        1           1          0              0             4583   \n",
            "2         1        1           0          0              1             3000   \n",
            "3         1        1           0          1              0             2583   \n",
            "4         1        0           0          0              0             6000   \n",
            "..      ...      ...         ...        ...            ...              ...   \n",
            "609       0        0           0          0              0             2900   \n",
            "610       1        1           3          0              0             4106   \n",
            "611       1        1           1          0              0             8072   \n",
            "612       1        1           2          0              0             7583   \n",
            "613       0        0           0          0              1             4583   \n",
            "\n",
            "     CoapplicantIncome  LoanAmount  Loan_Amount_Term  Credit_History  \\\n",
            "0                  0.0      146.41             360.0             1.0   \n",
            "1               1508.0      128.00             360.0             1.0   \n",
            "2                  0.0       66.00             360.0             1.0   \n",
            "3               2358.0      120.00             360.0             1.0   \n",
            "4                  0.0      141.00             360.0             1.0   \n",
            "..                 ...         ...               ...             ...   \n",
            "609                0.0       71.00             360.0             1.0   \n",
            "610                0.0       40.00             180.0             1.0   \n",
            "611              240.0      253.00             360.0             1.0   \n",
            "612                0.0      187.00             360.0             1.0   \n",
            "613                0.0      133.00             360.0             0.0   \n",
            "\n",
            "     Property_Area  Loan_Status  \n",
            "0                2            1  \n",
            "1                0            0  \n",
            "2                2            1  \n",
            "3                2            1  \n",
            "4                2            1  \n",
            "..             ...          ...  \n",
            "609              0            1  \n",
            "610              0            1  \n",
            "611              2            1  \n",
            "612              2            1  \n",
            "613              1            0  \n",
            "\n",
            "[586 rows x 12 columns]>\n"
          ]
        }
      ]
    },
    {
      "cell_type": "code",
      "source": [
        "from sklearn.preprocessing import MinMaxScaler\n",
        "scaler = MinMaxScaler()\n",
        "scaler.fit(X_train)\n",
        "X_train = scaler.fit_transform(X_train)\n",
        "X_test = scaler.fit_transform(X_test)"
      ],
      "metadata": {
        "id": "K_wHCHGvVy9J"
      },
      "execution_count": null,
      "outputs": []
    },
    {
      "cell_type": "code",
      "source": [
        "\n",
        "test_classifiers = [\n",
        "    'KNN',\n",
        "    'DT',\n",
        "    'NB',\n",
        "    'LR',\n",
        "    'RF',\n",
        "    'SVM',\n",
        "    'GBDT'\n",
        "]\n",
        "classifiers = {\n",
        "    'KNN':knn_classifier,\n",
        "    'DT':decision_tree_classifier,\n",
        "    'NB':naive_bayes_classifier,\n",
        "    'LR':logistic_regression_classifier,\n",
        "    'RF':random_forest_classifier,\n",
        "    'SVM':svm_classifier,\n",
        "    'GBDT':Gradient_Boosting_Classifier\n",
        "\n",
        "}"
      ],
      "metadata": {
        "id": "UUiteY7g_qLs"
      },
      "execution_count": null,
      "outputs": []
    },
    {
      "cell_type": "code",
      "source": [
        "print(X_train)"
      ],
      "metadata": {
        "colab": {
          "base_uri": "https://localhost:8080/"
        },
        "id": "8IHLtUBjuUek",
        "outputId": "ce6e5843-3627-45f6-eea6-ca2817df84f8"
      },
      "execution_count": null,
      "outputs": [
        {
          "output_type": "stream",
          "name": "stdout",
          "text": [
            "[[0.         1.         0.         ... 0.74358974 1.         0.        ]\n",
            " [1.         0.         0.         ... 0.74358974 1.         0.        ]\n",
            " [1.         1.         1.         ... 0.61538462 0.         0.5       ]\n",
            " ...\n",
            " [0.         1.         0.         ... 0.74358974 0.84       0.        ]\n",
            " [1.         1.         0.         ... 0.35897436 0.         0.        ]\n",
            " [1.         1.         0.33333333 ... 0.74358974 1.         1.        ]]\n"
          ]
        }
      ]
    },
    {
      "cell_type": "code",
      "source": [
        "y_train"
      ],
      "metadata": {
        "colab": {
          "base_uri": "https://localhost:8080/"
        },
        "id": "umYUn-b4udM-",
        "outputId": "5ecbd44a-a873-4812-a2f1-b5b743115b2d"
      },
      "execution_count": null,
      "outputs": [
        {
          "output_type": "execute_result",
          "data": {
            "text/plain": [
              "array([0, 1, 0, 1, 1, 1, 0, 0, 1, 1, 0, 1, 1, 0, 1, 0, 1, 1, 1, 1, 0, 0,\n",
              "       0, 1, 1, 1, 1, 1, 1, 0, 0, 1, 1, 1, 0, 0, 0, 0, 1, 1, 1, 1, 1, 0,\n",
              "       0, 1, 1, 1, 1, 1, 1, 1, 1, 1, 0, 0, 1, 1, 1, 1, 1, 0, 0, 1, 1, 1,\n",
              "       0, 1, 1, 0, 1, 1, 0, 1, 1, 0, 0, 0, 1, 1, 1, 1, 1, 1, 0, 1, 0, 1,\n",
              "       1, 0, 1, 1, 1, 1, 0, 1, 0, 1, 1, 1, 1, 1, 1, 1, 1, 0, 1, 1, 1, 1,\n",
              "       0, 0, 1, 1, 1, 1, 0, 1, 1, 0, 0, 1, 0, 0, 1, 0, 1, 1, 1, 1, 1, 0,\n",
              "       0, 1, 0, 0, 1, 1, 0, 1, 1, 0, 1, 0, 0, 1, 1, 1, 1, 1, 1, 1, 0, 1,\n",
              "       1, 0, 1, 1, 1, 0, 1, 1, 1, 1, 1, 1, 1, 0, 1, 0, 0, 1, 1, 1, 1, 1,\n",
              "       1, 1, 1, 0, 0, 0, 1, 1, 1, 1, 1, 1, 1, 1, 0, 1, 0, 1, 1, 0, 0, 1,\n",
              "       1, 0, 1, 1, 1, 1, 1, 1, 0, 1, 1, 1, 1, 0, 1, 1, 1, 0, 1, 1, 1, 1,\n",
              "       1, 0, 1, 1, 1, 1, 0, 1, 0, 1, 0, 1, 1, 0, 1, 1, 1, 1, 1, 1, 1, 1,\n",
              "       1, 0, 0, 1, 1, 1, 1, 1, 1, 1, 1, 0, 1, 1, 0, 1, 1, 0, 1, 0, 1, 0,\n",
              "       0, 1, 0, 1, 1, 0, 1, 1, 1, 0, 0, 1, 1, 1, 0, 1, 1, 1, 1, 1, 1, 1,\n",
              "       1, 1, 0, 0, 1, 1, 1, 0, 1, 1, 0, 1, 1, 1, 1, 0, 1, 1, 1, 0, 0, 0,\n",
              "       1, 1, 0, 1, 1, 0, 1, 1, 1, 1, 0, 1, 1, 1, 0, 1, 1, 1, 1, 1, 0, 1,\n",
              "       1, 1, 1, 1, 1, 1, 1, 0, 1, 0, 0, 1, 0, 1, 1, 1, 1, 1, 1, 0, 1, 1,\n",
              "       1, 1, 0, 1, 0, 1, 1, 1, 0, 0, 0, 1, 1, 1, 1, 1, 0, 0, 1, 1, 1, 1,\n",
              "       1, 0, 1, 1, 0, 1, 1, 0, 1, 0, 1, 1, 0, 1, 0, 1, 0, 1, 1, 0, 1, 0,\n",
              "       0, 1, 1, 0, 0, 1, 1, 1, 1, 1, 1, 1, 0, 1, 1, 0, 1, 0, 0, 1, 1, 1,\n",
              "       1, 1, 1, 1, 1, 1, 1, 0, 0, 1, 0, 1, 0, 1, 1, 1, 1, 1, 1, 1, 0, 1,\n",
              "       1, 1, 1, 0, 1, 1, 1, 1, 1, 1, 0, 0, 1, 0, 1, 1, 1, 0, 1, 1, 0, 1,\n",
              "       0, 1, 1, 1, 1, 1])"
            ]
          },
          "metadata": {},
          "execution_count": 54
        }
      ]
    },
    {
      "cell_type": "code",
      "source": [
        "for classifier in test_classifiers:\n",
        "  print('***************** %s *************' % classifier)\n",
        "\n",
        "  model = classifiers[classifier](X_train, y_train)\n",
        "\n",
        "  predict = model.predict(X_test)\n",
        "  train_out = model.predict(X_train)\n",
        "\n",
        "  matrix = confusion_matrix(y_test, predict)\n",
        "  print(matrix)\n",
        "  class_report = classification_report(y_test, predict)\n",
        "  print(class_report)"
      ],
      "metadata": {
        "colab": {
          "base_uri": "https://localhost:8080/"
        },
        "outputId": "5ea702fa-2ef4-4088-a2b2-f296f0de6e73",
        "id": "Z6qn2mtxl41Q"
      },
      "execution_count": null,
      "outputs": [
        {
          "output_type": "stream",
          "name": "stdout",
          "text": [
            "***************** KNN *************\n",
            "[[15 28]\n",
            " [ 2 73]]\n",
            "              precision    recall  f1-score   support\n",
            "\n",
            "           0       0.88      0.35      0.50        43\n",
            "           1       0.72      0.97      0.83        75\n",
            "\n",
            "    accuracy                           0.75       118\n",
            "   macro avg       0.80      0.66      0.66       118\n",
            "weighted avg       0.78      0.75      0.71       118\n",
            "\n",
            "***************** DT *************\n",
            "[[19 24]\n",
            " [19 56]]\n",
            "              precision    recall  f1-score   support\n",
            "\n",
            "           0       0.50      0.44      0.47        43\n",
            "           1       0.70      0.75      0.72        75\n",
            "\n",
            "    accuracy                           0.64       118\n",
            "   macro avg       0.60      0.59      0.60       118\n",
            "weighted avg       0.63      0.64      0.63       118\n",
            "\n",
            "***************** NB *************\n",
            "[[ 0 43]\n",
            " [ 0 75]]\n",
            "              precision    recall  f1-score   support\n",
            "\n",
            "           0       0.00      0.00      0.00        43\n",
            "           1       0.64      1.00      0.78        75\n",
            "\n",
            "    accuracy                           0.64       118\n",
            "   macro avg       0.32      0.50      0.39       118\n",
            "weighted avg       0.40      0.64      0.49       118\n",
            "\n",
            "***************** LR *************\n",
            "[[14 29]\n",
            " [ 1 74]]\n",
            "              precision    recall  f1-score   support\n",
            "\n",
            "           0       0.93      0.33      0.48        43\n",
            "           1       0.72      0.99      0.83        75\n",
            "\n",
            "    accuracy                           0.75       118\n",
            "   macro avg       0.83      0.66      0.66       118\n",
            "weighted avg       0.80      0.75      0.70       118\n",
            "\n",
            "***************** RF *************\n",
            "[[18 25]\n",
            " [ 5 70]]\n",
            "              precision    recall  f1-score   support\n",
            "\n",
            "           0       0.78      0.42      0.55        43\n",
            "           1       0.74      0.93      0.82        75\n",
            "\n",
            "    accuracy                           0.75       118\n",
            "   macro avg       0.76      0.68      0.68       118\n",
            "weighted avg       0.75      0.75      0.72       118\n",
            "\n",
            "***************** SVM *************\n",
            "[[14 29]\n",
            " [ 1 74]]\n",
            "              precision    recall  f1-score   support\n",
            "\n",
            "           0       0.93      0.33      0.48        43\n",
            "           1       0.72      0.99      0.83        75\n",
            "\n",
            "    accuracy                           0.75       118\n",
            "   macro avg       0.83      0.66      0.66       118\n",
            "weighted avg       0.80      0.75      0.70       118\n",
            "\n",
            "***************** GBDT *************\n",
            "[[17 26]\n",
            " [ 8 67]]\n",
            "              precision    recall  f1-score   support\n",
            "\n",
            "           0       0.68      0.40      0.50        43\n",
            "           1       0.72      0.89      0.80        75\n",
            "\n",
            "    accuracy                           0.71       118\n",
            "   macro avg       0.70      0.64      0.65       118\n",
            "weighted avg       0.71      0.71      0.69       118\n",
            "\n"
          ]
        }
      ]
    },
    {
      "cell_type": "code",
      "source": [
        "from sklearn.multioutput import MultiOutputClassifier\n",
        "from sklearn.linear_model import LogisticRegression"
      ],
      "metadata": {
        "id": "Nwv0zYM2I93N"
      },
      "execution_count": null,
      "outputs": []
    },
    {
      "cell_type": "code",
      "source": [
        "# Early stopping for ANN\n",
        "early_stopping = callbacks.EarlyStopping(\n",
        "    min_delta=0.001,  #Minimum amount of change to count as improvement\n",
        "    patience = 20,  # how many epochs to wait before stopping\n",
        "    restore_best_weights=True\n",
        ")\n",
        "\n",
        "#initializing the NN\n",
        "model = Sequential()\n",
        "\n",
        "#layers\n",
        "\n",
        "model.add(Dense(units = 11, kernel_initializer = 'uniform', activation = 'relu', input_dim = 11 ))\n",
        "\n",
        "model.add(Dropout(0.25))\n",
        "model.add(Dense(units= 8, kernel_initializer='uniform', activation = 'relu'))\n",
        "model.add(Dropout(0.5))\n",
        "model.add(Dense(units = 1, kernel_initializer = 'uniform', activation = 'sigmoid'))\n",
        "\n",
        "#Compiling the ANN\n",
        "opt = Adam(learning_rate = 0.00009)\n",
        "model.compile(optimizer = opt, loss = 'binary_crossentropy', metrics = ['accuracy'])\n",
        "\n",
        "# Train the ANN\n",
        "history = model.fit(X_train, y_train, batch_size = 32, epochs = 150, callbacks = [early_stopping], validation_split = 0.2)"
      ],
      "metadata": {
        "id": "yJXYgkq91yOY"
      },
      "execution_count": null,
      "outputs": []
    },
    {
      "cell_type": "code",
      "source": [
        "# Plotting training and validation loss\n",
        "\n",
        "history_df = pd.DataFrame(history.history)\n",
        "plt.plot(history_df.loc[:,['loss']], \"#BDE2E2\", label = \"Training Loss\")\n",
        "plt.plot(history_df.loc[:, ['val_loss']], \"#C2C4E2\", label = 'Validation Loss')\n",
        "plt.title('Training and Validation Loss')\n",
        "plt.xlabel('Epochs')\n",
        "plt.ylabel('Loss')\n",
        "plt.legend(loc=\"best\")\n",
        "\n",
        "plt.show()\n"
      ],
      "metadata": {
        "colab": {
          "base_uri": "https://localhost:8080/",
          "height": 295
        },
        "id": "s9jgvNfx7t81",
        "outputId": "0617548b-250b-4277-ce0b-16d00f7b1978"
      },
      "execution_count": null,
      "outputs": [
        {
          "output_type": "display_data",
          "data": {
            "text/plain": [
              "<Figure size 432x288 with 1 Axes>"
            ],
            "image/png": "[encoded data removed]"
          },
          "metadata": {
            "needs_background": "light"
          }
        }
      ]
    },
    {
      "cell_type": "code",
      "source": [
        "y_pred = model.predict(X_test)\n",
        "y_pred = (y_pred > 0.5)\n",
        "matrix = confusion_matrix(y_test,y_pred)\n",
        "print(matrix)\n",
        "class_report = classification_report(y_test, y_pred)\n",
        "print(class_report)"
      ],
      "metadata": {
        "colab": {
          "base_uri": "https://localhost:8080/"
        },
        "id": "GJUbGUxn9zeq",
        "outputId": "b8bc43e8-fc7c-434e-e8d8-74c17cde7019"
      },
      "execution_count": null,
      "outputs": [
        {
          "output_type": "stream",
          "name": "stdout",
          "text": [
            "4/4 [==============================] - 0s 4ms/step\n",
            "[[ 0 43]\n",
            " [ 0 75]]\n",
            "              precision    recall  f1-score   support\n",
            "\n",
            "           0       0.00      0.00      0.00        43\n",
            "           1       0.64      1.00      0.78        75\n",
            "\n",
            "    accuracy                           0.64       118\n",
            "   macro avg       0.32      0.50      0.39       118\n",
            "weighted avg       0.40      0.64      0.49       118\n",
            "\n"
          ]
        }
      ]
    }
  ]
}